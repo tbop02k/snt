{
 "cells": [
  {
   "cell_type": "code",
   "execution_count": null,
   "id": "5a0c313a-14ff-411c-bf50-56383cac9992",
   "metadata": {},
   "outputs": [],
   "source": [
    "from IPython.display import Image"
   ]
  },
  {
   "cell_type": "code",
   "execution_count": null,
   "id": "b779a05e-dcd6-4ca2-a7a3-1a8fe353e52a",
   "metadata": {},
   "outputs": [
    {
     "data": {
      "text/html": [
       "<img src=\"./materials/img/week04/00.png\"/>"
      ],
      "text/plain": [
       "<IPython.core.display.Image object>"
      ]
     },
     "execution_count": 2,
     "metadata": {},
     "output_type": "execute_result"
    }
   ],
   "source": [
    "Image(url= \"./materials/img/week04/00.png\")"
   ]
  },
  {
   "cell_type": "code",
   "execution_count": null,
   "id": "f35f9f32-50d9-4302-a284-83bfbe937668",
   "metadata": {},
   "outputs": [
    {
     "data": {
      "text/html": [
       "<img src=\"./materials/img/week04/01.png\"/>"
      ],
      "text/plain": [
       "<IPython.core.display.Image object>"
      ]
     },
     "execution_count": 20,
     "metadata": {},
     "output_type": "execute_result"
    }
   ],
   "source": [
    "Image(url= \"./materials/img/week04/01.png\")"
   ]
  },
  {
   "cell_type": "code",
   "execution_count": 42,
   "id": "6f8552d9-5133-42e0-8524-8a9adadd6051",
   "metadata": {},
   "outputs": [
    {
     "name": "stdout",
     "output_type": "stream",
     "text": [
      "equal\n"
     ]
    }
   ],
   "source": [
    "a= 1\n",
    "b= 1\n",
    "\n",
    "if a==b:\n",
    "    print('equal')\n",
    "else:\n",
    "    print('non equal')"
   ]
  },
  {
   "cell_type": "code",
   "execution_count": null,
   "id": "b89bbfc1-76c3-4958-8e26-6f98edf5fd17",
   "metadata": {},
   "outputs": [
    {
     "data": {
      "text/html": [
       "<img src=\"./materials/img/week04/02.png\"/>"
      ],
      "text/plain": [
       "<IPython.core.display.Image object>"
      ]
     },
     "execution_count": 21,
     "metadata": {},
     "output_type": "execute_result"
    }
   ],
   "source": [
    "Image(url= \"./materials/img/week04/02.png\")"
   ]
  },
  {
   "cell_type": "code",
   "execution_count": 43,
   "id": "03a3af4e-30e9-48d2-a2dd-d8882ab67648",
   "metadata": {},
   "outputs": [
    {
     "name": "stdout",
     "output_type": "stream",
     "text": [
      "1\n"
     ]
    }
   ],
   "source": [
    "a=1\n",
    "b=2\n",
    "c=2\n",
    "\n",
    "if a==b or (b==c or a==c):\n",
    "    print('1')\n",
    "else:\n",
    "    print('2')"
   ]
  },
  {
   "cell_type": "code",
   "execution_count": 46,
   "id": "96a6e7fe-8585-4141-88bc-b4416b58df99",
   "metadata": {},
   "outputs": [
    {
     "data": {
      "text/plain": [
       "True"
      ]
     },
     "execution_count": 46,
     "metadata": {},
     "output_type": "execute_result"
    }
   ],
   "source": [
    "b==c"
   ]
  },
  {
   "cell_type": "code",
   "execution_count": null,
   "id": "d446936d-2a91-4f40-9c1f-5a529ca2d04f",
   "metadata": {},
   "outputs": [
    {
     "data": {
      "text/html": [
       "<img src=\"./materials/img/week04/03.png\"/>"
      ],
      "text/plain": [
       "<IPython.core.display.Image object>"
      ]
     },
     "execution_count": 22,
     "metadata": {},
     "output_type": "execute_result"
    }
   ],
   "source": [
    "Image(url= \"./materials/img/week04/03.png\")"
   ]
  },
  {
   "cell_type": "code",
   "execution_count": null,
   "id": "a8c46048-a037-4658-8e25-83fd784d212e",
   "metadata": {},
   "outputs": [],
   "source": [
    "a==1\n",
    "b==2\n",
    "c==3\n",
    "\n",
    "if a==b:\n",
    "    print('1')\n",
    "elif b==c:\n",
    "    print('2')\n",
    "else:\n",
    "    print('3')"
   ]
  },
  {
   "cell_type": "code",
   "execution_count": null,
   "id": "0dbe4132-82c2-40ac-8bb1-5787a4d25d89",
   "metadata": {},
   "outputs": [
    {
     "data": {
      "text/html": [
       "<img src=\"./materials/img/week04/04.png\"/>"
      ],
      "text/plain": [
       "<IPython.core.display.Image object>"
      ]
     },
     "execution_count": 23,
     "metadata": {},
     "output_type": "execute_result"
    }
   ],
   "source": [
    "Image(url= \"./materials/img/week04/04.png\")"
   ]
  },
  {
   "cell_type": "code",
   "execution_count": null,
   "id": "2c57133c-c00a-4686-bd60-a8376f3611b6",
   "metadata": {},
   "outputs": [
    {
     "data": {
      "text/html": [
       "<img src=\"./materials/img/week04/05.png\"/>"
      ],
      "text/plain": [
       "<IPython.core.display.Image object>"
      ]
     },
     "execution_count": 24,
     "metadata": {},
     "output_type": "execute_result"
    }
   ],
   "source": [
    "Image(url= \"./materials/img/week04/05.png\")"
   ]
  },
  {
   "cell_type": "code",
   "execution_count": null,
   "id": "bc39f78e-6a10-4163-b676-9ca2719f10db",
   "metadata": {},
   "outputs": [
    {
     "data": {
      "text/html": [
       "<img src=\"./materials/img/week04/06.png\"/>"
      ],
      "text/plain": [
       "<IPython.core.display.Image object>"
      ]
     },
     "execution_count": 25,
     "metadata": {},
     "output_type": "execute_result"
    }
   ],
   "source": [
    "Image(url= \"./materials/img/week04/06.png\")"
   ]
  },
  {
   "cell_type": "code",
   "execution_count": 47,
   "id": "91982ee5-5b3c-4517-b496-7b19a553fbc0",
   "metadata": {},
   "outputs": [],
   "source": [
    "## 쓸수있는 비교연산자 <,<=,>,>=, !="
   ]
  },
  {
   "cell_type": "code",
   "execution_count": 48,
   "id": "6f63f8a0-587d-48e0-b2be-b28b061601e6",
   "metadata": {},
   "outputs": [
    {
     "name": "stdout",
     "output_type": "stream",
     "text": [
      "True\n"
     ]
    }
   ],
   "source": [
    "a=1\n",
    "b=2\n",
    "if a!=b:\n",
    "    print('True')\n",
    "else:\n",
    "    print(False)"
   ]
  },
  {
   "cell_type": "code",
   "execution_count": null,
   "id": "339c015e-ad96-4dcf-9e12-9400256d21e3",
   "metadata": {},
   "outputs": [
    {
     "data": {
      "text/html": [
       "<img src=\"./materials/img/week04/07.png\"/>"
      ],
      "text/plain": [
       "<IPython.core.display.Image object>"
      ]
     },
     "execution_count": 26,
     "metadata": {},
     "output_type": "execute_result"
    }
   ],
   "source": [
    "Image(url= \"./materials/img/week04/07.png\")"
   ]
  },
  {
   "cell_type": "code",
   "execution_count": null,
   "id": "65fc87e0-b6aa-413e-830d-254e19a7e0d9",
   "metadata": {},
   "outputs": [
    {
     "data": {
      "text/html": [
       "<img src=\"./materials/img/week04/08.png\"/>"
      ],
      "text/plain": [
       "<IPython.core.display.Image object>"
      ]
     },
     "execution_count": 27,
     "metadata": {},
     "output_type": "execute_result"
    }
   ],
   "source": [
    "Image(url= \"./materials/img/week04/08.png\")"
   ]
  },
  {
   "cell_type": "code",
   "execution_count": 49,
   "id": "c2315a6d-9a1f-4225-94d6-de0fe21089a6",
   "metadata": {},
   "outputs": [
    {
     "data": {
      "text/plain": [
       "False"
      ]
     },
     "execution_count": 49,
     "metadata": {},
     "output_type": "execute_result"
    }
   ],
   "source": [
    "not True"
   ]
  },
  {
   "cell_type": "code",
   "execution_count": 50,
   "id": "c41d12fb-eec0-478e-a141-8fb528e3b785",
   "metadata": {},
   "outputs": [
    {
     "data": {
      "text/plain": [
       "True"
      ]
     },
     "execution_count": 50,
     "metadata": {},
     "output_type": "execute_result"
    }
   ],
   "source": [
    "not False"
   ]
  },
  {
   "cell_type": "code",
   "execution_count": 51,
   "id": "995451b9-d683-4cef-81dc-1bc5168a6c0e",
   "metadata": {},
   "outputs": [
    {
     "name": "stdout",
     "output_type": "stream",
     "text": [
      "True\n"
     ]
    }
   ],
   "source": [
    "a=1\n",
    "b=2\n",
    "if not a==b:\n",
    "    print(True)\n",
    "else:\n",
    "    print(False)"
   ]
  },
  {
   "cell_type": "code",
   "execution_count": 53,
   "id": "3c093c30-c2e0-4a7d-b456-22770718d6a6",
   "metadata": {},
   "outputs": [
    {
     "name": "stdout",
     "output_type": "stream",
     "text": [
      "2\n"
     ]
    }
   ],
   "source": [
    "if False:\n",
    "    print('1')\n",
    "else:\n",
    "    print('2')"
   ]
  },
  {
   "cell_type": "markdown",
   "id": "a319fdec-7335-4736-91ea-5904866c55e4",
   "metadata": {},
   "source": [
    "## 문제\n",
    "a,b,c 를 입력받아서\n",
    "a의 b제곱이 c면 True 아니면 False 를 출력해라"
   ]
  },
  {
   "cell_type": "code",
   "execution_count": 61,
   "id": "ae7a007e-d3f8-4175-9d0b-6cbc7d269a6a",
   "metadata": {},
   "outputs": [
    {
     "data": {
      "text/plain": [
       "bool"
      ]
     },
     "execution_count": 61,
     "metadata": {},
     "output_type": "execute_result"
    }
   ],
   "source": [
    "type(True)"
   ]
  },
  {
   "cell_type": "code",
   "execution_count": 62,
   "id": "4b3eb66f-478f-478f-8bbe-bf781702676e",
   "metadata": {},
   "outputs": [
    {
     "data": {
      "text/plain": [
       "str"
      ]
     },
     "execution_count": 62,
     "metadata": {},
     "output_type": "execute_result"
    }
   ],
   "source": [
    "type('sss')"
   ]
  },
  {
   "cell_type": "code",
   "execution_count": 63,
   "id": "14a85de4-f49e-4ee8-b3e6-aff142cd4f40",
   "metadata": {},
   "outputs": [
    {
     "data": {
      "text/plain": [
       "int"
      ]
     },
     "execution_count": 63,
     "metadata": {},
     "output_type": "execute_result"
    }
   ],
   "source": [
    "type(111)"
   ]
  },
  {
   "cell_type": "code",
   "execution_count": 64,
   "id": "781f0b0a-8048-48f6-957b-f5fa30cd1184",
   "metadata": {},
   "outputs": [
    {
     "data": {
      "text/plain": [
       "float"
      ]
     },
     "execution_count": 64,
     "metadata": {},
     "output_type": "execute_result"
    }
   ],
   "source": [
    "type(1.0)"
   ]
  },
  {
   "cell_type": "code",
   "execution_count": 67,
   "id": "360b0d2e-e188-4da5-9424-37d6e0da2611",
   "metadata": {},
   "outputs": [
    {
     "data": {
      "text/plain": [
       "True"
      ]
     },
     "execution_count": 67,
     "metadata": {},
     "output_type": "execute_result"
    }
   ],
   "source": [
    "a = float(1.00)\n",
    "b = float(1.0)\n",
    "a==b"
   ]
  },
  {
   "cell_type": "code",
   "execution_count": null,
   "id": "87390a6e-ce9e-40ec-8ba8-3fbdc304cf25",
   "metadata": {},
   "outputs": [
    {
     "data": {
      "text/html": [
       "<img src=\"./materials/img/week04/09.png\"/>"
      ],
      "text/plain": [
       "<IPython.core.display.Image object>"
      ]
     },
     "execution_count": 28,
     "metadata": {},
     "output_type": "execute_result"
    }
   ],
   "source": [
    "Image(url= \"./materials/img/week04/09.png\")"
   ]
  },
  {
   "cell_type": "code",
   "execution_count": 70,
   "id": "0ec6767f-5c44-4842-8cbd-59a25eaf79a6",
   "metadata": {},
   "outputs": [
    {
     "name": "stdout",
     "output_type": "stream",
     "text": [
      "2\n"
     ]
    }
   ],
   "source": [
    "a=1\n",
    "b=2\n",
    "c=3\n",
    "\n",
    "if (a==1 or b==2) and b==3:\n",
    "    print('1')\n",
    "else:\n",
    "    print('2')"
   ]
  },
  {
   "cell_type": "code",
   "execution_count": null,
   "id": "0412b1b6-926e-4d78-be15-995191f84934",
   "metadata": {},
   "outputs": [
    {
     "data": {
      "text/html": [
       "<img src=\"./materials/img/week04/10.png\"/>"
      ],
      "text/plain": [
       "<IPython.core.display.Image object>"
      ]
     },
     "execution_count": 29,
     "metadata": {},
     "output_type": "execute_result"
    }
   ],
   "source": [
    "Image(url= \"./materials/img/week04/10.png\")"
   ]
  },
  {
   "cell_type": "code",
   "execution_count": null,
   "id": "8bfc1820-3b4c-41cb-a04d-596d43236bf0",
   "metadata": {},
   "outputs": [
    {
     "data": {
      "text/html": [
       "<img src=\"./materials/img/week04/11.png\"/>"
      ],
      "text/plain": [
       "<IPython.core.display.Image object>"
      ]
     },
     "execution_count": 30,
     "metadata": {},
     "output_type": "execute_result"
    }
   ],
   "source": [
    "Image(url= \"./materials/img/week04/11.png\")"
   ]
  },
  {
   "cell_type": "code",
   "execution_count": 71,
   "id": "18c716a0-9a00-49d3-b29a-8457903455ac",
   "metadata": {},
   "outputs": [
    {
     "name": "stdout",
     "output_type": "stream",
     "text": [
      "2\n"
     ]
    }
   ],
   "source": [
    "a=1\n",
    "b=2\n",
    "c=3\n",
    "if a!=b:    \n",
    "    if b==3:\n",
    "        print('1')\n",
    "    else:\n",
    "        print('2')\n",
    "else:\n",
    "    print('3')"
   ]
  },
  {
   "cell_type": "code",
   "execution_count": null,
   "id": "2c47b174-cadb-422b-9f3a-9fa882471439",
   "metadata": {},
   "outputs": [
    {
     "data": {
      "text/html": [
       "<img src=\"./materials/img/week04/12.png\"/>"
      ],
      "text/plain": [
       "<IPython.core.display.Image object>"
      ]
     },
     "execution_count": 31,
     "metadata": {},
     "output_type": "execute_result"
    }
   ],
   "source": [
    "Image(url= \"./materials/img/week04/12.png\")"
   ]
  },
  {
   "cell_type": "code",
   "execution_count": null,
   "id": "a9d4ef53-09b1-4266-8998-519f10743012",
   "metadata": {},
   "outputs": [
    {
     "data": {
      "text/html": [
       "<img src=\"./materials/img/week04/13.png\"/>"
      ],
      "text/plain": [
       "<IPython.core.display.Image object>"
      ]
     },
     "execution_count": 32,
     "metadata": {},
     "output_type": "execute_result"
    }
   ],
   "source": [
    "Image(url= \"./materials/img/week04/13.png\")"
   ]
  },
  {
   "cell_type": "code",
   "execution_count": 72,
   "id": "705c8ae4-77da-4808-9148-4e8bbbc89483",
   "metadata": {},
   "outputs": [
    {
     "data": {
      "text/html": [
       "<img src=\"./materials/img/week04/14.png\"/>"
      ],
      "text/plain": [
       "<IPython.core.display.Image object>"
      ]
     },
     "execution_count": 72,
     "metadata": {},
     "output_type": "execute_result"
    }
   ],
   "source": [
    "Image(url= \"./materials/img/week04/14.png\")"
   ]
  },
  {
   "cell_type": "code",
   "execution_count": null,
   "id": "3c8410f6-d2af-4220-858b-de6c1c961d1a",
   "metadata": {},
   "outputs": [
    {
     "data": {
      "text/html": [
       "<img src=\"./materials/img/week04/15.png\"/>"
      ],
      "text/plain": [
       "<IPython.core.display.Image object>"
      ]
     },
     "execution_count": 33,
     "metadata": {},
     "output_type": "execute_result"
    }
   ],
   "source": [
    "Image(url= \"./materials/img/week04/15.png\")"
   ]
  },
  {
   "cell_type": "code",
   "execution_count": null,
   "id": "06d2f123-0f54-472f-af91-ad9ce3c0aeea",
   "metadata": {},
   "outputs": [
    {
     "data": {
      "text/html": [
       "<img src=\"./materials/img/week04/16.png\"/>"
      ],
      "text/plain": [
       "<IPython.core.display.Image object>"
      ]
     },
     "execution_count": 34,
     "metadata": {},
     "output_type": "execute_result"
    }
   ],
   "source": [
    "Image(url= \"./materials/img/week04/16.png\")"
   ]
  },
  {
   "cell_type": "code",
   "execution_count": 74,
   "id": "c511edab-aba6-4dc2-9cfd-4827759f83f2",
   "metadata": {},
   "outputs": [
    {
     "data": {
      "text/plain": [
       "0"
      ]
     },
     "execution_count": 74,
     "metadata": {},
     "output_type": "execute_result"
    }
   ],
   "source": [
    "def absoluteValue(x):\n",
    "    if x<0:\n",
    "        y = -x\n",
    "    else:\n",
    "        y = x\n",
    "    return y\n",
    "absoluteValue(0)"
   ]
  },
  {
   "cell_type": "code",
   "execution_count": 75,
   "id": "03d0f9d9-db5a-42c5-8143-9d3c874dd19d",
   "metadata": {},
   "outputs": [],
   "source": [
    "def absoluteValue(x):\n",
    "    if x<0:\n",
    "        y = -x\n",
    "        return y\n",
    "    else:\n",
    "        y = x\n",
    "        return y"
   ]
  },
  {
   "cell_type": "code",
   "execution_count": null,
   "id": "7fcc2c2c-07f4-4e25-bf42-fd4032a19abb",
   "metadata": {},
   "outputs": [
    {
     "data": {
      "text/html": [
       "<img src=\"./materials/img/week04/17.png\"/>"
      ],
      "text/plain": [
       "<IPython.core.display.Image object>"
      ]
     },
     "execution_count": 35,
     "metadata": {},
     "output_type": "execute_result"
    }
   ],
   "source": [
    "Image(url= \"./materials/img/week04/17.png\")"
   ]
  }
 ],
 "metadata": {
  "kernelspec": {
   "display_name": "Python 3",
   "language": "python",
   "name": "python3"
  },
  "language_info": {
   "codemirror_mode": {
    "name": "ipython",
    "version": 3
   },
   "file_extension": ".py",
   "mimetype": "text/x-python",
   "name": "python",
   "nbconvert_exporter": "python",
   "pygments_lexer": "ipython3",
   "version": "3.6.14"
  }
 },
 "nbformat": 4,
 "nbformat_minor": 5
}
