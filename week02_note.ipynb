{
 "cells": [
  {
   "cell_type": "markdown",
   "id": "76489262-bea2-4edb-86a5-aa3f1165ba25",
   "metadata": {},
   "source": [
    "### 잘못된 작성예"
   ]
  },
  {
   "cell_type": "code",
   "execution_count": null,
   "id": "e52c0aab-22b7-4e9a-9c08-3bf348b03c45",
   "metadata": {
    "tags": []
   },
   "outputs": [],
   "source": [
    "n = int(input(\"enter n : \"))\n",
    "a = n%10\n",
    "b = n%100\n",
    "c = n%1000\n",
    "d = n//1000  \n",
    "def reverse(n):\n",
    "    return (a*1000 + (b - a)*10 + (c - b)*0.1 + d)"
   ]
  },
  {
   "cell_type": "markdown",
   "id": "ded4ce98-6f8f-4102-b4e6-5c91b542065e",
   "metadata": {},
   "source": [
    "### 올바른 작성예"
   ]
  },
  {
   "cell_type": "code",
   "execution_count": 2,
   "id": "06f02d86-a957-4e9a-9f27-229da7fb7d04",
   "metadata": {},
   "outputs": [
    {
     "data": {
      "text/plain": [
       "0.5"
      ]
     },
     "execution_count": 2,
     "metadata": {},
     "output_type": "execute_result"
    }
   ],
   "source": [
    "def reverse(n):\n",
    "    n = int(input(\"enter n : \"))\n",
    "    a = n%10\n",
    "    b = n%100\n",
    "    c = n%1000\n",
    "    d = n//1000    \n",
    "    return (a*1000 + (b - a)*10 + (c - b)*0.1 + d)\n",
    "\n",
    "print(reverse(n))"
   ]
  },
  {
   "cell_type": "markdown",
   "id": "80f3021a-b99c-4025-8c62-f6ab0f997256",
   "metadata": {},
   "source": [
    "문제: <br/>\n",
    "변수 a b c 를 받아서\n",
    "a 의 b 의 c승을 출력하는 함수로 "
   ]
  },
  {
   "cell_type": "code",
   "execution_count": 6,
   "id": "2fecda8c-bc8a-4813-ade7-059738f595b3",
   "metadata": {},
   "outputs": [
    {
     "name": "stdin",
     "output_type": "stream",
     "text": [
      "enter n1 :  1\n",
      "enter n2 :  2\n"
     ]
    },
    {
     "data": {
      "text/plain": [
       "2"
      ]
     },
     "execution_count": 6,
     "metadata": {},
     "output_type": "execute_result"
    }
   ],
   "source": [
    "n1 = int(input(\"enter n1 : \"))\n",
    "n2 = int(input(\"enter n2 : \"))\n",
    "\n",
    "def maximum(n1,n2):\n",
    "    if n1 > n2:\n",
    "        return(n1)\n",
    "    else:\n",
    "        return(n2)\n",
    "    \n",
    "print(maximum(1,2))"
   ]
  },
  {
   "cell_type": "code",
   "execution_count": 7,
   "id": "a8eff467-269e-48ee-92a7-1754431b1fa8",
   "metadata": {},
   "outputs": [
    {
     "name": "stdout",
     "output_type": "stream",
     "text": [
      "2\n"
     ]
    }
   ],
   "source": [
    "def maximum(n1,n2):\n",
    "    if n1 > n2:\n",
    "        print(n1)\n",
    "    else:\n",
    "        print(n2)\n",
    "maximum(1,2)"
   ]
  },
  {
   "cell_type": "markdown",
   "id": "9b434b64-121f-4e47-91db-55c62d73e5fa",
   "metadata": {},
   "source": [
    "## 문제11"
   ]
  },
  {
   "cell_type": "code",
   "execution_count": 19,
   "id": "2ddc6409-530b-41ed-84ed-b7c9e5d1b29f",
   "metadata": {},
   "outputs": [],
   "source": [
    "x1, y1, l1, x2, y2, l2 = 0,0,4,-1,0,2"
   ]
  },
  {
   "cell_type": "code",
   "execution_count": 21,
   "id": "033e9735-87c1-4dee-91dd-02698af6b547",
   "metadata": {},
   "outputs": [
    {
     "data": {
      "text/plain": [
       "6.0"
      ]
     },
     "execution_count": 21,
     "metadata": {},
     "output_type": "execute_result"
    }
   ],
   "source": [
    "((l1+l2)/2 - (x1-x2))*((l1+l2)/2 - (y1-y2))"
   ]
  },
  {
   "cell_type": "code",
   "execution_count": 34,
   "id": "762692ff-de04-4300-8fa1-181ffb52bbd0",
   "metadata": {},
   "outputs": [
    {
     "data": {
      "text/plain": [
       "1"
      ]
     },
     "execution_count": 34,
     "metadata": {},
     "output_type": "execute_result"
    }
   ],
   "source": [
    "abs(-1)"
   ]
  },
  {
   "cell_type": "code",
   "execution_count": 30,
   "id": "2ebc36aa-cbd1-4fc0-88cd-9209c5636e28",
   "metadata": {},
   "outputs": [
    {
     "name": "stdin",
     "output_type": "stream",
     "text": [
      "enter x1 :  1\n",
      "enter y1 :  2\n",
      "enter x2 :  3\n",
      "enter y2 :  45\n",
      "enter a :  6\n",
      "enter b :  7\n"
     ]
    },
    {
     "name": "stdout",
     "output_type": "stream",
     "text": [
      "0\n"
     ]
    }
   ],
   "source": [
    "x1 = int(input(\"enter x1 : \"))\n",
    "y1 = int(input(\"enter y1 : \"))\n",
    "x2 = int(input(\"enter x2 : \"))\n",
    "y2 = int(input(\"enter y2 : \"))\n",
    "a = int(input(\"enter a : \"))\n",
    "b = int(input(\"enter b : \"))\n",
    "\n",
    "def diff_abs(x1,x2):\n",
    "    return (x1-x2)**2**1/2\n",
    "  \n",
    "R1= diff_abs(x1,x2)-(a+b)/2 \n",
    "R2= diff_abs(y1,y2)-(a+b)/2 \n",
    "\n",
    "if R1 <0 and R2<0:       \n",
    "    print(R1*R2)    \n",
    "else:\n",
    "    print('0')"
   ]
  },
  {
   "cell_type": "code",
   "execution_count": 35,
   "id": "d4fa1ceb-7743-444b-8670-98b5d0f4f533",
   "metadata": {},
   "outputs": [
    {
     "name": "stdin",
     "output_type": "stream",
     "text": [
      "enter x1 :  12\n",
      "enter y1 :  3\n",
      "enter x2 :  4\n",
      "enter y2 :  5\n",
      "enter x3 :  6\n",
      "enter y3 :  7\n"
     ]
    },
    {
     "ename": "AttributeError",
     "evalue": "'int' object has no attribute 'x2'",
     "output_type": "error",
     "traceback": [
      "\u001b[0;31m---------------------------------------------------------------------------\u001b[0m",
      "\u001b[0;31mAttributeError\u001b[0m                            Traceback (most recent call last)",
      "\u001b[0;32m<ipython-input-35-88c57a2ed9ab>\u001b[0m in \u001b[0;36m<module>\u001b[0;34m\u001b[0m\n\u001b[1;32m      9\u001b[0m     \u001b[0;32mreturn\u001b[0m\u001b[0;34m(\u001b[0m\u001b[0;34m(\u001b[0m\u001b[0mx1\u001b[0m \u001b[0;34m-\u001b[0m \u001b[0mx2\u001b[0m\u001b[0;34m)\u001b[0m\u001b[0;34m**\u001b[0m\u001b[0;36m2\u001b[0m \u001b[0;34m+\u001b[0m \u001b[0;34m(\u001b[0m\u001b[0my1\u001b[0m \u001b[0;34m-\u001b[0m \u001b[0my2\u001b[0m\u001b[0;34m)\u001b[0m\u001b[0;34m**\u001b[0m\u001b[0;36m2\u001b[0m\u001b[0;34m)\u001b[0m\u001b[0;34m**\u001b[0m\u001b[0;34m(\u001b[0m\u001b[0;36m1\u001b[0m\u001b[0;34m/\u001b[0m\u001b[0;36m2\u001b[0m\u001b[0;34m)\u001b[0m\u001b[0;34m\u001b[0m\u001b[0;34m\u001b[0m\u001b[0m\n\u001b[1;32m     10\u001b[0m \u001b[0;34m\u001b[0m\u001b[0m\n\u001b[0;32m---> 11\u001b[0;31m \u001b[0mR1\u001b[0m \u001b[0;34m=\u001b[0m \u001b[0mlength\u001b[0m\u001b[0;34m(\u001b[0m\u001b[0mx1\u001b[0m\u001b[0;34m,\u001b[0m\u001b[0my1\u001b[0m\u001b[0;34m.\u001b[0m\u001b[0mx2\u001b[0m\u001b[0;34m,\u001b[0m\u001b[0my2\u001b[0m\u001b[0;34m)\u001b[0m\u001b[0;34m\u001b[0m\u001b[0;34m\u001b[0m\u001b[0m\n\u001b[0m\u001b[1;32m     12\u001b[0m \u001b[0mR2\u001b[0m \u001b[0;34m=\u001b[0m \u001b[0mlength\u001b[0m\u001b[0;34m(\u001b[0m\u001b[0mx2\u001b[0m\u001b[0;34m,\u001b[0m\u001b[0my2\u001b[0m\u001b[0;34m.\u001b[0m\u001b[0mx3\u001b[0m\u001b[0;34m,\u001b[0m\u001b[0my3\u001b[0m\u001b[0;34m)\u001b[0m\u001b[0;34m\u001b[0m\u001b[0;34m\u001b[0m\u001b[0m\n\u001b[1;32m     13\u001b[0m \u001b[0mR3\u001b[0m \u001b[0;34m=\u001b[0m \u001b[0mlength\u001b[0m\u001b[0;34m(\u001b[0m\u001b[0mx1\u001b[0m\u001b[0;34m,\u001b[0m\u001b[0my1\u001b[0m\u001b[0;34m.\u001b[0m\u001b[0mx3\u001b[0m\u001b[0;34m,\u001b[0m\u001b[0my3\u001b[0m\u001b[0;34m)\u001b[0m\u001b[0;34m\u001b[0m\u001b[0;34m\u001b[0m\u001b[0m\n",
      "\u001b[0;31mAttributeError\u001b[0m: 'int' object has no attribute 'x2'"
     ]
    }
   ],
   "source": [
    "x1 = int(input(\"enter x1 : \"))\n",
    "y1 = int(input(\"enter y1 : \"))\n",
    "x2 = int(input(\"enter x2 : \"))\n",
    "y2 = int(input(\"enter y2 : \"))\n",
    "x3 = int(input(\"enter x3 : \"))\n",
    "y3 = int(input(\"enter y3 : \"))\n",
    "\n",
    "def length(x1,y1,x2,y2):\n",
    "    return((x1 - x2)**2 + (y1 - y2)**2)**(1/2)\n",
    "    \n",
    "R1 = length(x1,y1.x2,y2)\n",
    "R2 = length(x2,y2.x3,y3)\n",
    "R3 = length(x1,y1.x3,y3)\n",
    "\n",
    "def f(R1,R2,R3):\n",
    "    return (R1**2+R2**2)**(1/2)-R3\n",
    "if f(R1,R2,R3) < 0 and f(R2,R3,R1) < 0 and f(R3,R1,R2) < 0:\n",
    "    print(True)\n",
    "else:\n",
    "    print(False)"
   ]
  }
 ],
 "metadata": {
  "kernelspec": {
   "display_name": "Python 3",
   "language": "python",
   "name": "python3"
  },
  "language_info": {
   "codemirror_mode": {
    "name": "ipython",
    "version": 3
   },
   "file_extension": ".py",
   "mimetype": "text/x-python",
   "name": "python",
   "nbconvert_exporter": "python",
   "pygments_lexer": "ipython3",
   "version": "3.6.14"
  }
 },
 "nbformat": 4,
 "nbformat_minor": 5
}
