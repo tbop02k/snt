{
 "cells": [
  {
   "cell_type": "code",
   "execution_count": 3,
   "id": "5a0c313a-14ff-411c-bf50-56383cac9992",
   "metadata": {},
   "outputs": [],
   "source": [
    "from IPython.display import Image"
   ]
  },
  {
   "cell_type": "code",
   "execution_count": 4,
   "id": "b779a05e-dcd6-4ca2-a7a3-1a8fe353e52a",
   "metadata": {},
   "outputs": [
    {
     "data": {
      "text/html": [
       "<img src=\"./materials/img/week05/00.png\"/>"
      ],
      "text/plain": [
       "<IPython.core.display.Image object>"
      ]
     },
     "execution_count": 4,
     "metadata": {},
     "output_type": "execute_result"
    }
   ],
   "source": [
    "Image(url= \"./materials/img/week05/00.png\")"
   ]
  },
  {
   "cell_type": "code",
   "execution_count": 5,
   "id": "f35f9f32-50d9-4302-a284-83bfbe937668",
   "metadata": {},
   "outputs": [
    {
     "data": {
      "text/html": [
       "<img src=\"./materials/img/week05/01.png\"/>"
      ],
      "text/plain": [
       "<IPython.core.display.Image object>"
      ]
     },
     "execution_count": 5,
     "metadata": {},
     "output_type": "execute_result"
    }
   ],
   "source": [
    "Image(url= \"./materials/img/week05/01.png\")"
   ]
  },
  {
   "cell_type": "code",
   "execution_count": 14,
   "id": "7afc64c5-f14e-4dd1-94bc-353b7b1b85bb",
   "metadata": {},
   "outputs": [
    {
     "data": {
      "text/plain": [
       "(True, False)"
      ]
     },
     "execution_count": 14,
     "metadata": {},
     "output_type": "execute_result"
    }
   ],
   "source": [
    "True, False"
   ]
  },
  {
   "cell_type": "code",
   "execution_count": 7,
   "id": "b89bbfc1-76c3-4958-8e26-6f98edf5fd17",
   "metadata": {},
   "outputs": [
    {
     "data": {
      "text/html": [
       "<img src=\"./materials/img/week05/02.png\"/>"
      ],
      "text/plain": [
       "<IPython.core.display.Image object>"
      ]
     },
     "execution_count": 7,
     "metadata": {},
     "output_type": "execute_result"
    }
   ],
   "source": [
    "Image(url= \"./materials/img/week05/02.png\")"
   ]
  },
  {
   "cell_type": "code",
   "execution_count": 16,
   "id": "a83f0636-4776-4f79-8379-65e32b184d99",
   "metadata": {},
   "outputs": [
    {
     "data": {
      "text/plain": [
       "True"
      ]
     },
     "execution_count": 16,
     "metadata": {},
     "output_type": "execute_result"
    }
   ],
   "source": [
    "True == True"
   ]
  },
  {
   "cell_type": "code",
   "execution_count": 15,
   "id": "62ee3fbd-5e75-4770-836c-4e8a233e51d1",
   "metadata": {},
   "outputs": [
    {
     "data": {
      "text/plain": [
       "False"
      ]
     },
     "execution_count": 15,
     "metadata": {},
     "output_type": "execute_result"
    }
   ],
   "source": [
    "\"True\" == True"
   ]
  },
  {
   "cell_type": "code",
   "execution_count": 8,
   "id": "d446936d-2a91-4f40-9c1f-5a529ca2d04f",
   "metadata": {},
   "outputs": [
    {
     "data": {
      "text/html": [
       "<img src=\"./materials/img/week05/03.png\"/>"
      ],
      "text/plain": [
       "<IPython.core.display.Image object>"
      ]
     },
     "execution_count": 8,
     "metadata": {},
     "output_type": "execute_result"
    }
   ],
   "source": [
    "Image(url= \"./materials/img/week05/03.png\")"
   ]
  },
  {
   "cell_type": "code",
   "execution_count": 20,
   "id": "8814a1c6-a2b3-4799-a130-a442d9865e37",
   "metadata": {},
   "outputs": [
    {
     "data": {
      "text/plain": [
       "True"
      ]
     },
     "execution_count": 20,
     "metadata": {},
     "output_type": "execute_result"
    }
   ],
   "source": [
    "def lessThan(x,y):\n",
    "    if x<y:\n",
    "        return True\n",
    "    else:\n",
    "        return False\n",
    "lessThan(1,2)"
   ]
  },
  {
   "cell_type": "code",
   "execution_count": 21,
   "id": "f8ac2649-120f-4c04-b87e-5e1ec98d7b67",
   "metadata": {},
   "outputs": [
    {
     "data": {
      "text/plain": [
       "True"
      ]
     },
     "execution_count": 21,
     "metadata": {},
     "output_type": "execute_result"
    }
   ],
   "source": [
    "def lessThan(x,y):\n",
    "    return x<y\n",
    "lessThan(1,2)"
   ]
  },
  {
   "cell_type": "code",
   "execution_count": 9,
   "id": "0dbe4132-82c2-40ac-8bb1-5787a4d25d89",
   "metadata": {},
   "outputs": [
    {
     "data": {
      "text/html": [
       "<img src=\"./materials/img/week05/04.png\"/>"
      ],
      "text/plain": [
       "<IPython.core.display.Image object>"
      ]
     },
     "execution_count": 9,
     "metadata": {},
     "output_type": "execute_result"
    }
   ],
   "source": [
    "Image(url= \"./materials/img/week05/04.png\")"
   ]
  },
  {
   "cell_type": "code",
   "execution_count": 22,
   "id": "80dcf69a-8d16-41f5-8f79-e1c4efde924b",
   "metadata": {},
   "outputs": [
    {
     "data": {
      "text/plain": [
       "True"
      ]
     },
     "execution_count": 22,
     "metadata": {},
     "output_type": "execute_result"
    }
   ],
   "source": [
    "def singleDigit(x):\n",
    "    return (0<=x <10)\n",
    "singleDigit(7)"
   ]
  },
  {
   "cell_type": "code",
   "execution_count": 24,
   "id": "53427a9a-473e-4f84-9468-9082a841ae00",
   "metadata": {},
   "outputs": [
    {
     "name": "stdout",
     "output_type": "stream",
     "text": [
      "2\n"
     ]
    }
   ],
   "source": [
    "if singleDigit(7) ==True and singleDigit(11) ==True:\n",
    "    print('1')\n",
    "else:\n",
    "    print('2')"
   ]
  },
  {
   "cell_type": "code",
   "execution_count": 25,
   "id": "54f4f4a2-2e1c-4dba-be05-100d6c5130cc",
   "metadata": {},
   "outputs": [
    {
     "name": "stdout",
     "output_type": "stream",
     "text": [
      "2\n"
     ]
    }
   ],
   "source": [
    "if singleDigit(7) and singleDigit(11):\n",
    "    print('1')\n",
    "else:\n",
    "    print('2')"
   ]
  },
  {
   "cell_type": "code",
   "execution_count": 10,
   "id": "2c57133c-c00a-4686-bd60-a8376f3611b6",
   "metadata": {},
   "outputs": [
    {
     "data": {
      "text/html": [
       "<img src=\"./materials/img/week05/05.png\"/>"
      ],
      "text/plain": [
       "<IPython.core.display.Image object>"
      ]
     },
     "execution_count": 10,
     "metadata": {},
     "output_type": "execute_result"
    }
   ],
   "source": [
    "Image(url= \"./materials/img/week05/05.png\")"
   ]
  },
  {
   "cell_type": "code",
   "execution_count": 11,
   "id": "bc39f78e-6a10-4163-b676-9ca2719f10db",
   "metadata": {},
   "outputs": [
    {
     "data": {
      "text/html": [
       "<img src=\"./materials/img/week05/06.png\"/>"
      ],
      "text/plain": [
       "<IPython.core.display.Image object>"
      ]
     },
     "execution_count": 11,
     "metadata": {},
     "output_type": "execute_result"
    }
   ],
   "source": [
    "Image(url= \"./materials/img/week05/06.png\")"
   ]
  },
  {
   "cell_type": "code",
   "execution_count": 29,
   "id": "f99e669c-c114-4220-9e86-95c32b1a7a36",
   "metadata": {},
   "outputs": [
    {
     "data": {
      "text/plain": [
       "False"
      ]
     },
     "execution_count": 29,
     "metadata": {},
     "output_type": "execute_result"
    }
   ],
   "source": [
    "0.1+0.2 ==0.3"
   ]
  },
  {
   "cell_type": "code",
   "execution_count": 28,
   "id": "945bc5ef-28b8-463e-9fff-be2fc7f90d05",
   "metadata": {},
   "outputs": [
    {
     "data": {
      "text/plain": [
       "True"
      ]
     },
     "execution_count": 28,
     "metadata": {},
     "output_type": "execute_result"
    }
   ],
   "source": [
    "3+4 == 7"
   ]
  }
 ],
 "metadata": {
  "kernelspec": {
   "display_name": "Python 3",
   "language": "python",
   "name": "python3"
  },
  "language_info": {
   "codemirror_mode": {
    "name": "ipython",
    "version": 3
   },
   "file_extension": ".py",
   "mimetype": "text/x-python",
   "name": "python",
   "nbconvert_exporter": "python",
   "pygments_lexer": "ipython3",
   "version": "3.6.14"
  }
 },
 "nbformat": 4,
 "nbformat_minor": 5
}
