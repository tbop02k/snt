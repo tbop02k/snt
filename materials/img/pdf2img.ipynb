{
 "cells": [
  {
   "cell_type": "code",
   "execution_count": 14,
   "id": "86130f35-b1a2-40f0-98c2-01c3cd94a8f9",
   "metadata": {},
   "outputs": [],
   "source": [
    "import os\n",
    "from pdf2image import convert_from_path\n",
    "from glob import glob"
   ]
  },
  {
   "cell_type": "code",
   "execution_count": 20,
   "id": "cf119fba-1d37-4d4e-94cc-c3869da96d57",
   "metadata": {},
   "outputs": [
    {
     "name": "stdout",
     "output_type": "stream",
     "text": [
      "2\n",
      "['week02_var_expr_note.pdf']\n",
      "3\n",
      "['week03_func_note.pdf']\n",
      "4\n",
      "['week04_if_else_note.pdf']\n",
      "5\n",
      "['week05_bool_func_note.pdf']\n",
      "6\n",
      "['week06_for_1_note.pdf']\n",
      "7\n",
      "['week07_list_note.pdf']\n",
      "8\n",
      "['week08_for_2_note.pdf']\n",
      "9\n"
     ]
    },
    {
     "ename": "IndexError",
     "evalue": "list index out of range",
     "output_type": "error",
     "traceback": [
      "\u001b[0;31m---------------------------------------------------------------------------\u001b[0m",
      "\u001b[0;31mIndexError\u001b[0m                                Traceback (most recent call last)",
      "\u001b[0;32m<ipython-input-20-9e49988a5e30>\u001b[0m in \u001b[0;36m<module>\u001b[0;34m\u001b[0m\n\u001b[1;32m      8\u001b[0m     \u001b[0mpdf_files\u001b[0m \u001b[0;34m=\u001b[0m \u001b[0mglob\u001b[0m\u001b[0;34m(\u001b[0m\u001b[0;34mf\"week{i:02d}*_note.pdf\"\u001b[0m\u001b[0;34m)\u001b[0m\u001b[0;34m\u001b[0m\u001b[0;34m\u001b[0m\u001b[0m\n\u001b[1;32m      9\u001b[0m \u001b[0;34m\u001b[0m\u001b[0m\n\u001b[0;32m---> 10\u001b[0;31m     \u001b[0mimages\u001b[0m \u001b[0;34m=\u001b[0m \u001b[0mconvert_from_path\u001b[0m\u001b[0;34m(\u001b[0m\u001b[0mpdf_files\u001b[0m\u001b[0;34m[\u001b[0m\u001b[0;36m0\u001b[0m\u001b[0;34m]\u001b[0m\u001b[0;34m)\u001b[0m\u001b[0;34m\u001b[0m\u001b[0;34m\u001b[0m\u001b[0m\n\u001b[0m\u001b[1;32m     11\u001b[0m     \u001b[0mprint\u001b[0m\u001b[0;34m(\u001b[0m\u001b[0mpdf_files\u001b[0m\u001b[0;34m)\u001b[0m\u001b[0;34m\u001b[0m\u001b[0;34m\u001b[0m\u001b[0m\n\u001b[1;32m     12\u001b[0m \u001b[0;34m\u001b[0m\u001b[0m\n",
      "\u001b[0;31mIndexError\u001b[0m: list index out of range"
     ]
    }
   ],
   "source": [
    "for i in range(2,10):\n",
    "    print(i)\n",
    "    \n",
    "    folder_name = f\"week{i:02d}\"\n",
    "    if not os.path.exists(folder_name):\n",
    "        os.makedirs(folder_name)\n",
    "\n",
    "    pdf_files = glob(f\"week{i:02d}*_note.pdf\")\n",
    "    \n",
    "    images = convert_from_path(pdf_files[0])\n",
    "    print(pdf_files)\n",
    "    \n",
    "    for i, image in enumerate(images):\n",
    "        image.save(f'./{folder_name}/{i:02d}.png', 'PNG')      "
   ]
  },
  {
   "cell_type": "code",
   "execution_count": 28,
   "id": "9e8a9e8d-cc04-44ec-87f5-ac8a42ea7868",
   "metadata": {},
   "outputs": [
    {
     "name": "stdout",
     "output_type": "stream",
     "text": [
      "['week09_for_3.pdf']\n"
     ]
    }
   ],
   "source": [
    "folder_name = f\"week09\"\n",
    "if not os.path.exists(folder_name):\n",
    "    os.makedirs(folder_name)\n",
    "\n",
    "pdf_files = glob(f\"week09_for_3.pdf\")\n",
    "\n",
    "images = convert_from_path(pdf_files[0])\n",
    "print(pdf_files)\n",
    "\n",
    "for i, image in enumerate(images):\n",
    "    image.save(f'./{folder_name}/{i:02d}.png', 'PNG')  "
   ]
  },
  {
   "cell_type": "code",
   "execution_count": 29,
   "id": "7ed83291-9ad3-4f7f-873c-0a3fb95d50ae",
   "metadata": {},
   "outputs": [
    {
     "name": "stdout",
     "output_type": "stream",
     "text": [
      "['week10_while_note.pdf']\n"
     ]
    }
   ],
   "source": [
    "\n",
    "folder_name = f\"week10\"\n",
    "if not os.path.exists(folder_name):\n",
    "    os.makedirs(folder_name)\n",
    "\n",
    "pdf_files = glob(f\"week10*note.pdf\")\n",
    "\n",
    "images = convert_from_path(pdf_files[0])\n",
    "print(pdf_files)\n",
    "\n",
    "for i, image in enumerate(images):\n",
    "    image.save(f'./{folder_name}/{i:02d}.png', 'PNG')  "
   ]
  },
  {
   "cell_type": "code",
   "execution_count": 30,
   "id": "201f60ad-d119-48d4-addc-f802cf887db1",
   "metadata": {},
   "outputs": [
    {
     "name": "stdout",
     "output_type": "stream",
     "text": [
      "['week11_robot_note.pdf']\n"
     ]
    }
   ],
   "source": [
    "\n",
    "folder_name = f\"week11\"\n",
    "if not os.path.exists(folder_name):\n",
    "    os.makedirs(folder_name)\n",
    "\n",
    "pdf_files = glob(f\"week11*note.pdf\")\n",
    "\n",
    "images = convert_from_path(pdf_files[0])\n",
    "print(pdf_files)\n",
    "\n",
    "for i, image in enumerate(images):\n",
    "    image.save(f'./{folder_name}/{i:02d}.png', 'PNG')  "
   ]
  }
 ],
 "metadata": {
  "kernelspec": {
   "display_name": "Python 3",
   "language": "python",
   "name": "python3"
  },
  "language_info": {
   "codemirror_mode": {
    "name": "ipython",
    "version": 3
   },
   "file_extension": ".py",
   "mimetype": "text/x-python",
   "name": "python",
   "nbconvert_exporter": "python",
   "pygments_lexer": "ipython3",
   "version": "3.6.14"
  }
 },
 "nbformat": 4,
 "nbformat_minor": 5
}
