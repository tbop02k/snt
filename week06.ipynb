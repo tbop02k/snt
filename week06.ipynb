{
 "cells": [
  {
   "cell_type": "code",
   "execution_count": null,
   "id": "5a0c313a-14ff-411c-bf50-56383cac9992",
   "metadata": {},
   "outputs": [],
   "source": [
    "from IPython.display import Image"
   ]
  },
  {
   "cell_type": "code",
   "execution_count": null,
   "id": "b779a05e-dcd6-4ca2-a7a3-1a8fe353e52a",
   "metadata": {},
   "outputs": [
    {
     "data": {
      "text/html": [
       "<img src=\"./materials/img/week06/00.png\"/>"
      ],
      "text/plain": [
       "<IPython.core.display.Image object>"
      ]
     },
     "execution_count": 4,
     "metadata": {},
     "output_type": "execute_result"
    }
   ],
   "source": [
    "Image(url= \"./materials/img/week06/00.png\")"
   ]
  },
  {
   "cell_type": "code",
   "execution_count": null,
   "id": "f35f9f32-50d9-4302-a284-83bfbe937668",
   "metadata": {},
   "outputs": [
    {
     "data": {
      "text/html": [
       "<img src=\"./materials/img/week06/01.png\"/>"
      ],
      "text/plain": [
       "<IPython.core.display.Image object>"
      ]
     },
     "execution_count": 5,
     "metadata": {},
     "output_type": "execute_result"
    }
   ],
   "source": [
    "Image(url= \"./materials/img/week06/01.png\")"
   ]
  },
  {
   "cell_type": "code",
   "execution_count": 21,
   "id": "443a1afc-b054-408f-b5b5-9093797ca2bb",
   "metadata": {},
   "outputs": [
    {
     "name": "stdout",
     "output_type": "stream",
     "text": [
      "1\n",
      "2\n",
      "3\n",
      "4\n",
      "5\n",
      "6\n",
      "7\n",
      "8\n",
      "9\n"
     ]
    }
   ],
   "source": [
    "for i in range(1,10):\n",
    "    print(i)"
   ]
  },
  {
   "cell_type": "code",
   "execution_count": 20,
   "id": "c03b0516-c86d-4336-8f71-2c6fdfbfdb50",
   "metadata": {},
   "outputs": [
    {
     "name": "stdout",
     "output_type": "stream",
     "text": [
      "0\n",
      "1\n",
      "2\n",
      "3\n",
      "4\n",
      "5\n",
      "6\n",
      "7\n",
      "8\n",
      "9\n"
     ]
    }
   ],
   "source": [
    "for i in range(10):\n",
    "    print(i)"
   ]
  },
  {
   "cell_type": "code",
   "execution_count": null,
   "id": "b89bbfc1-76c3-4958-8e26-6f98edf5fd17",
   "metadata": {},
   "outputs": [
    {
     "data": {
      "text/html": [
       "<img src=\"./materials/img/week06/02.png\"/>"
      ],
      "text/plain": [
       "<IPython.core.display.Image object>"
      ]
     },
     "execution_count": 6,
     "metadata": {},
     "output_type": "execute_result"
    }
   ],
   "source": [
    "Image(url= \"./materials/img/week06/02.png\")"
   ]
  },
  {
   "cell_type": "code",
   "execution_count": 24,
   "id": "d4ce1923-bea8-4986-9b02-e33c6596578f",
   "metadata": {},
   "outputs": [
    {
     "name": "stdout",
     "output_type": "stream",
     "text": [
      "45\n"
     ]
    }
   ],
   "source": [
    "ans=0\n",
    "for i in range(10):\n",
    "    ans +=i  ## ans = ans+i\n",
    "print(ans)"
   ]
  },
  {
   "cell_type": "code",
   "execution_count": 25,
   "id": "725b7f99-1df5-4eac-95a8-a823373d9caf",
   "metadata": {},
   "outputs": [
    {
     "data": {
      "text/plain": [
       "9.5"
      ]
     },
     "execution_count": 25,
     "metadata": {},
     "output_type": "execute_result"
    }
   ],
   "source": [
    "abs(9.5)"
   ]
  },
  {
   "cell_type": "code",
   "execution_count": null,
   "id": "d446936d-2a91-4f40-9c1f-5a529ca2d04f",
   "metadata": {},
   "outputs": [
    {
     "data": {
      "text/html": [
       "<img src=\"./materials/img/week06/03.png\"/>"
      ],
      "text/plain": [
       "<IPython.core.display.Image object>"
      ]
     },
     "execution_count": 7,
     "metadata": {},
     "output_type": "execute_result"
    }
   ],
   "source": [
    "Image(url= \"./materials/img/week06/03.png\")"
   ]
  },
  {
   "cell_type": "code",
   "execution_count": 26,
   "id": "2fcf3935-edba-4a6a-981e-69164e26ed0c",
   "metadata": {
    "collapsed": true,
    "jupyter": {
     "outputs_hidden": true
    },
    "tags": []
   },
   "outputs": [
    {
     "name": "stdout",
     "output_type": "stream",
     "text": [
      "0 0\n",
      "0 1\n",
      "0 2\n",
      "0 3\n",
      "0 4\n",
      "0 5\n",
      "0 6\n",
      "0 7\n",
      "0 8\n",
      "0 9\n",
      "1 0\n",
      "1 1\n",
      "1 2\n",
      "1 3\n",
      "1 4\n",
      "1 5\n",
      "1 6\n",
      "1 7\n",
      "1 8\n",
      "1 9\n",
      "2 0\n",
      "2 1\n",
      "2 2\n",
      "2 3\n",
      "2 4\n",
      "2 5\n",
      "2 6\n",
      "2 7\n",
      "2 8\n",
      "2 9\n",
      "3 0\n",
      "3 1\n",
      "3 2\n",
      "3 3\n",
      "3 4\n",
      "3 5\n",
      "3 6\n",
      "3 7\n",
      "3 8\n",
      "3 9\n",
      "4 0\n",
      "4 1\n",
      "4 2\n",
      "4 3\n",
      "4 4\n",
      "4 5\n",
      "4 6\n",
      "4 7\n",
      "4 8\n",
      "4 9\n",
      "5 0\n",
      "5 1\n",
      "5 2\n",
      "5 3\n",
      "5 4\n",
      "5 5\n",
      "5 6\n",
      "5 7\n",
      "5 8\n",
      "5 9\n",
      "6 0\n",
      "6 1\n",
      "6 2\n",
      "6 3\n",
      "6 4\n",
      "6 5\n",
      "6 6\n",
      "6 7\n",
      "6 8\n",
      "6 9\n",
      "7 0\n",
      "7 1\n",
      "7 2\n",
      "7 3\n",
      "7 4\n",
      "7 5\n",
      "7 6\n",
      "7 7\n",
      "7 8\n",
      "7 9\n",
      "8 0\n",
      "8 1\n",
      "8 2\n",
      "8 3\n",
      "8 4\n",
      "8 5\n",
      "8 6\n",
      "8 7\n",
      "8 8\n",
      "8 9\n",
      "9 0\n",
      "9 1\n",
      "9 2\n",
      "9 3\n",
      "9 4\n",
      "9 5\n",
      "9 6\n",
      "9 7\n",
      "9 8\n",
      "9 9\n"
     ]
    }
   ],
   "source": [
    "for i in range(10):\n",
    "    for j in range(10):\n",
    "        print(i,j)"
   ]
  },
  {
   "cell_type": "code",
   "execution_count": 28,
   "id": "fe029e9f-008b-4777-a070-b56cd4f191ee",
   "metadata": {},
   "outputs": [],
   "source": [
    "## 100이하의 2의배수 출력\n",
    "## 100이하의 2의배수 출력 3의배수 제외"
   ]
  },
  {
   "cell_type": "code",
   "execution_count": null,
   "id": "f95297b1-4b5e-4781-a72e-84c30b3e63e7",
   "metadata": {},
   "outputs": [],
   "source": [
    "## 구구단\n",
    "1 x 1 = 1\n",
    "...\n",
    "9 x 9 = 81"
   ]
  },
  {
   "cell_type": "code",
   "execution_count": 36,
   "id": "5f80aad8-86bc-483d-91c9-12ed3c8eafd4",
   "metadata": {},
   "outputs": [
    {
     "name": "stdout",
     "output_type": "stream",
     "text": [
      "a는 5 a\n",
      "a는 5, b는 6\n",
      "a는 5, b는 6\n",
      "a는 5 b는 6 axb는 30\n"
     ]
    }
   ],
   "source": [
    "# 문자열에 식쓰기 \n",
    "a= 5\n",
    "b= 6\n",
    "print('a는',a,'a')\n",
    "print('a는 {}, b는 {}'.format(a,b))\n",
    "print('a는 {x}, b는 {y}'.format(x=a,y=b))\n",
    "print(f'a는 {a} b는 {b} axb는 {a*b}')"
   ]
  },
  {
   "cell_type": "code",
   "execution_count": 42,
   "id": "48ad5ae9-3e6b-423d-b210-235bb2a477cf",
   "metadata": {},
   "outputs": [
    {
     "name": "stdout",
     "output_type": "stream",
     "text": [
      "4\n",
      "2\n",
      "8\n",
      "2\n"
     ]
    }
   ],
   "source": [
    "a =1\n",
    "a +=3 ## a = a+3\n",
    "print(a)\n",
    "a //=2\n",
    "print(a)\n",
    "a **= 3\n",
    "print(a)\n",
    "a %= 3\n",
    "print(a)"
   ]
  },
  {
   "cell_type": "code",
   "execution_count": 46,
   "id": "361c4c5d-9316-49e9-a214-1db398a10f6a",
   "metadata": {},
   "outputs": [
    {
     "data": {
      "text/plain": [
       "'\\n1 x 1 x 1 = 1\\n...\\n9 x 9 x 9 = ?\\n가운데 3의 배수만\\n'"
      ]
     },
     "execution_count": 46,
     "metadata": {},
     "output_type": "execute_result"
    }
   ],
   "source": [
    "## 문제 \n",
    "'''\n",
    "1 x 1 x 1 = 1\n",
    ".\n",
    ".\n",
    ".\n",
    "9 x 9 x 9 = ?\n",
    "가운데 3의 배수만 출력\n",
    "'''\n",
    "for i in range(1 10):\n",
    "    for j in range(3, 10,3):\n",
    "        for k in range(1, 10):\n",
    "            print(f\"{i} X {j} X {k} = {i*j*k}\")"
   ]
  },
  {
   "cell_type": "code",
   "execution_count": null,
   "id": "0dbe4132-82c2-40ac-8bb1-5787a4d25d89",
   "metadata": {},
   "outputs": [
    {
     "data": {
      "text/html": [
       "<img src=\"./materials/img/week06/04.png\"/>"
      ],
      "text/plain": [
       "<IPython.core.display.Image object>"
      ]
     },
     "execution_count": 8,
     "metadata": {},
     "output_type": "execute_result"
    }
   ],
   "source": [
    "Image(url= \"./materials/img/week06/04.png\")"
   ]
  },
  {
   "cell_type": "code",
   "execution_count": null,
   "id": "2c57133c-c00a-4686-bd60-a8376f3611b6",
   "metadata": {},
   "outputs": [
    {
     "data": {
      "text/html": [
       "<img src=\"./materials/img/week06/05.png\"/>"
      ],
      "text/plain": [
       "<IPython.core.display.Image object>"
      ]
     },
     "execution_count": 9,
     "metadata": {},
     "output_type": "execute_result"
    }
   ],
   "source": [
    "Image(url= \"./materials/img/week06/05.png\")"
   ]
  },
  {
   "cell_type": "code",
   "execution_count": null,
   "id": "bc39f78e-6a10-4163-b676-9ca2719f10db",
   "metadata": {},
   "outputs": [
    {
     "data": {
      "text/html": [
       "<img src=\"./materials/img/week06/06.png\"/>"
      ],
      "text/plain": [
       "<IPython.core.display.Image object>"
      ]
     },
     "execution_count": 10,
     "metadata": {},
     "output_type": "execute_result"
    }
   ],
   "source": [
    "Image(url= \"./materials/img/week06/06.png\")"
   ]
  },
  {
   "cell_type": "code",
   "execution_count": null,
   "id": "339c015e-ad96-4dcf-9e12-9400256d21e3",
   "metadata": {},
   "outputs": [
    {
     "data": {
      "text/html": [
       "<img src=\"./materials/img/week06/07.png\"/>"
      ],
      "text/plain": [
       "<IPython.core.display.Image object>"
      ]
     },
     "execution_count": 11,
     "metadata": {},
     "output_type": "execute_result"
    }
   ],
   "source": [
    "Image(url= \"./materials/img/week06/07.png\")"
   ]
  },
  {
   "cell_type": "code",
   "execution_count": 48,
   "id": "c6c25327-3aaa-4ed1-919c-b0e07a3f70ee",
   "metadata": {},
   "outputs": [
    {
     "name": "stdout",
     "output_type": "stream",
     "text": [
      "1\n",
      "3\n",
      "5\n",
      "7\n",
      "9\n"
     ]
    }
   ],
   "source": [
    "for i in range(1,10,2):\n",
    "    print(i)"
   ]
  },
  {
   "cell_type": "code",
   "execution_count": null,
   "id": "65fc87e0-b6aa-413e-830d-254e19a7e0d9",
   "metadata": {},
   "outputs": [
    {
     "data": {
      "text/html": [
       "<img src=\"./materials/img/week06/08.png\"/>"
      ],
      "text/plain": [
       "<IPython.core.display.Image object>"
      ]
     },
     "execution_count": 12,
     "metadata": {},
     "output_type": "execute_result"
    }
   ],
   "source": [
    "Image(url= \"./materials/img/week06/08.png\")"
   ]
  },
  {
   "cell_type": "code",
   "execution_count": null,
   "id": "87390a6e-ce9e-40ec-8ba8-3fbdc304cf25",
   "metadata": {},
   "outputs": [
    {
     "data": {
      "text/html": [
       "<img src=\"./materials/img/week06/09.png\"/>"
      ],
      "text/plain": [
       "<IPython.core.display.Image object>"
      ]
     },
     "execution_count": 13,
     "metadata": {},
     "output_type": "execute_result"
    }
   ],
   "source": [
    "Image(url= \"./materials/img/week06/09.png\")"
   ]
  },
  {
   "cell_type": "code",
   "execution_count": null,
   "id": "0412b1b6-926e-4d78-be15-995191f84934",
   "metadata": {},
   "outputs": [
    {
     "data": {
      "text/html": [
       "<img src=\"./materials/img/week06/10.png\"/>"
      ],
      "text/plain": [
       "<IPython.core.display.Image object>"
      ]
     },
     "execution_count": 14,
     "metadata": {},
     "output_type": "execute_result"
    }
   ],
   "source": [
    "Image(url= \"./materials/img/week06/10.png\")"
   ]
  },
  {
   "cell_type": "code",
   "execution_count": 51,
   "id": "608f959a-6286-4150-82c0-1f2b6da7c5cb",
   "metadata": {},
   "outputs": [],
   "source": [
    "## 함수로 구현하기\n",
    "# for 문으로 10! 구하기 (input  x)\n",
    "'''\n",
    "def factorial(x):\n",
    "    return ??\n",
    "'''\n",
    "# for 문으로 x의 n승 구하기 (input x, n)\n",
    "'''\n",
    "def prod(x,n):\n",
    "    return ??\n",
    "'''"
   ]
  },
  {
   "cell_type": "code",
   "execution_count": null,
   "id": "8bfc1820-3b4c-41cb-a04d-596d43236bf0",
   "metadata": {},
   "outputs": [
    {
     "data": {
      "text/html": [
       "<img src=\"./materials/img/week06/11.png\"/>"
      ],
      "text/plain": [
       "<IPython.core.display.Image object>"
      ]
     },
     "execution_count": 15,
     "metadata": {},
     "output_type": "execute_result"
    }
   ],
   "source": [
    "Image(url= \"./materials/img/week06/11.png\")"
   ]
  },
  {
   "cell_type": "code",
   "execution_count": null,
   "id": "2c47b174-cadb-422b-9f3a-9fa882471439",
   "metadata": {},
   "outputs": [
    {
     "data": {
      "text/html": [
       "<img src=\"./materials/img/week06/12.png\"/>"
      ],
      "text/plain": [
       "<IPython.core.display.Image object>"
      ]
     },
     "execution_count": 16,
     "metadata": {},
     "output_type": "execute_result"
    }
   ],
   "source": [
    "Image(url= \"./materials/img/week06/12.png\")"
   ]
  },
  {
   "cell_type": "code",
   "execution_count": null,
   "id": "a9d4ef53-09b1-4266-8998-519f10743012",
   "metadata": {},
   "outputs": [
    {
     "data": {
      "text/html": [
       "<img src=\"./materials/img/week06/13.png\"/>"
      ],
      "text/plain": [
       "<IPython.core.display.Image object>"
      ]
     },
     "execution_count": 17,
     "metadata": {},
     "output_type": "execute_result"
    }
   ],
   "source": [
    "Image(url= \"./materials/img/week06/13.png\")"
   ]
  }
 ],
 "metadata": {
  "kernelspec": {
   "display_name": "Python 3",
   "language": "python",
   "name": "python3"
  },
  "language_info": {
   "codemirror_mode": {
    "name": "ipython",
    "version": 3
   },
   "file_extension": ".py",
   "mimetype": "text/x-python",
   "name": "python",
   "nbconvert_exporter": "python",
   "pygments_lexer": "ipython3",
   "version": "3.6.14"
  }
 },
 "nbformat": 4,
 "nbformat_minor": 5
}
