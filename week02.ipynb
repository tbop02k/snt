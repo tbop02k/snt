{
 "cells": [
  {
   "cell_type": "code",
   "execution_count": null,
   "id": "e833d279-c942-4289-a9bb-fa7ea8d495e1",
   "metadata": {},
   "outputs": [],
   "source": [
    "from IPython.display import Image"
   ]
  },
  {
   "cell_type": "code",
   "execution_count": null,
   "id": "2017d516-0a5c-4060-b9b7-122965f3e8a0",
   "metadata": {},
   "outputs": [
    {
     "data": {
      "text/html": [
       "<img src=\"./materials/img/week02/00.png\"/>"
      ],
      "text/plain": [
       "<IPython.core.display.Image object>"
      ]
     },
     "execution_count": 4,
     "metadata": {},
     "output_type": "execute_result"
    }
   ],
   "source": [
    "Image(url= \"./materials/img/week02/00.png\")"
   ]
  },
  {
   "cell_type": "code",
   "execution_count": null,
   "id": "dace9cdd-b428-4328-b303-c85a806594a2",
   "metadata": {},
   "outputs": [
    {
     "data": {
      "text/html": [
       "<img src=\"./materials/img/week02/01.png\"/>"
      ],
      "text/plain": [
       "<IPython.core.display.Image object>"
      ]
     },
     "execution_count": 5,
     "metadata": {},
     "output_type": "execute_result"
    }
   ],
   "source": [
    "Image(url= \"./materials/img/week02/01.png\")"
   ]
  },
  {
   "cell_type": "code",
   "execution_count": null,
   "id": "6e93476d-5c05-40a9-8ee6-a967d168df76",
   "metadata": {},
   "outputs": [
    {
     "data": {
      "text/html": [
       "<img src=\"./materials/img/week02/02.png\"/>"
      ],
      "text/plain": [
       "<IPython.core.display.Image object>"
      ]
     },
     "execution_count": 6,
     "metadata": {},
     "output_type": "execute_result"
    }
   ],
   "source": [
    "Image(url= \"./materials/img/week02/02.png\")"
   ]
  },
  {
   "cell_type": "code",
   "execution_count": null,
   "id": "1e23ed29-f356-460c-9f24-19a7c09728e2",
   "metadata": {},
   "outputs": [
    {
     "data": {
      "text/html": [
       "<img src=\"./materials/img/week03/02.png\"/>"
      ],
      "text/plain": [
       "<IPython.core.display.Image object>"
      ]
     },
     "execution_count": 47,
     "metadata": {},
     "output_type": "execute_result"
    }
   ],
   "source": [
    "Image(url= \"./materials/img/week03/02.png\")"
   ]
  },
  {
   "cell_type": "code",
   "execution_count": null,
   "id": "b60f4635-a00f-48c6-ac9d-4e88b2fffbff",
   "metadata": {},
   "outputs": [
    {
     "data": {
      "text/html": [
       "<img src=\"./materials/img/week02/03.png\"/>"
      ],
      "text/plain": [
       "<IPython.core.display.Image object>"
      ]
     },
     "execution_count": 7,
     "metadata": {},
     "output_type": "execute_result"
    }
   ],
   "source": [
    "Image(url= \"./materials/img/week02/03.png\")"
   ]
  },
  {
   "cell_type": "code",
   "execution_count": null,
   "id": "86307f13-c8d6-409a-9a13-f368e5c7c583",
   "metadata": {},
   "outputs": [
    {
     "data": {
      "text/html": [
       "<img src=\"./materials/img/week02/04.png\"/>"
      ],
      "text/plain": [
       "<IPython.core.display.Image object>"
      ]
     },
     "execution_count": 8,
     "metadata": {},
     "output_type": "execute_result"
    }
   ],
   "source": [
    "Image(url= \"./materials/img/week02/04.png\")"
   ]
  },
  {
   "cell_type": "code",
   "execution_count": null,
   "id": "1675d455-6c98-46db-877f-6634c93cc378",
   "metadata": {},
   "outputs": [
    {
     "data": {
      "text/html": [
       "<img src=\"./materials/img/week02/05.png\"/>"
      ],
      "text/plain": [
       "<IPython.core.display.Image object>"
      ]
     },
     "execution_count": 9,
     "metadata": {},
     "output_type": "execute_result"
    }
   ],
   "source": [
    "Image(url= \"./materials/img/week02/05.png\")"
   ]
  },
  {
   "cell_type": "code",
   "execution_count": null,
   "id": "0c243848-1e28-49a7-a243-2b51cf46b163",
   "metadata": {},
   "outputs": [
    {
     "data": {
      "text/html": [
       "<img src=\"./materials/img/week02/06.png\"/>"
      ],
      "text/plain": [
       "<IPython.core.display.Image object>"
      ]
     },
     "execution_count": 10,
     "metadata": {},
     "output_type": "execute_result"
    }
   ],
   "source": [
    "Image(url= \"./materials/img/week02/06.png\")"
   ]
  },
  {
   "cell_type": "code",
   "execution_count": null,
   "id": "02b54f4d-0c01-4264-a693-6db9070eabb2",
   "metadata": {},
   "outputs": [
    {
     "data": {
      "text/html": [
       "<img src=\"./materials/img/week02/07.png\"/>"
      ],
      "text/plain": [
       "<IPython.core.display.Image object>"
      ]
     },
     "execution_count": 11,
     "metadata": {},
     "output_type": "execute_result"
    }
   ],
   "source": [
    "Image(url= \"./materials/img/week02/07.png\")"
   ]
  },
  {
   "cell_type": "code",
   "execution_count": null,
   "id": "a2485c3b-123a-4287-b9bb-1f4ecceb20c1",
   "metadata": {},
   "outputs": [
    {
     "data": {
      "text/html": [
       "<img src=\"./materials/img/week02/08.png\"/>"
      ],
      "text/plain": [
       "<IPython.core.display.Image object>"
      ]
     },
     "execution_count": 12,
     "metadata": {},
     "output_type": "execute_result"
    }
   ],
   "source": [
    "Image(url= \"./materials/img/week02/08.png\")"
   ]
  },
  {
   "cell_type": "code",
   "execution_count": null,
   "id": "3a0fe2eb-c406-4d8b-9e5b-0857ada4d3d7",
   "metadata": {},
   "outputs": [
    {
     "data": {
      "text/html": [
       "<img src=\"./materials/img/week02/09.png\"/>"
      ],
      "text/plain": [
       "<IPython.core.display.Image object>"
      ]
     },
     "execution_count": 13,
     "metadata": {},
     "output_type": "execute_result"
    }
   ],
   "source": [
    "Image(url= \"./materials/img/week02/09.png\")"
   ]
  },
  {
   "cell_type": "code",
   "execution_count": null,
   "id": "2e1dbac1-e052-49d4-85b1-a31690530c92",
   "metadata": {},
   "outputs": [
    {
     "data": {
      "text/html": [
       "<img src=\"./materials/img/week02/10.png\"/>"
      ],
      "text/plain": [
       "<IPython.core.display.Image object>"
      ]
     },
     "execution_count": 14,
     "metadata": {},
     "output_type": "execute_result"
    }
   ],
   "source": [
    "Image(url= \"./materials/img/week02/10.png\")"
   ]
  },
  {
   "cell_type": "code",
   "execution_count": null,
   "id": "015219d7-3b53-4309-a5c1-dd2fea2d9d94",
   "metadata": {},
   "outputs": [
    {
     "data": {
      "text/html": [
       "<img src=\"./materials/img/week02/11.png\"/>"
      ],
      "text/plain": [
       "<IPython.core.display.Image object>"
      ]
     },
     "execution_count": 15,
     "metadata": {},
     "output_type": "execute_result"
    }
   ],
   "source": [
    "Image(url= \"./materials/img/week02/11.png\")"
   ]
  },
  {
   "cell_type": "code",
   "execution_count": null,
   "id": "5093515d-0528-4658-bc2e-2c32281f182c",
   "metadata": {},
   "outputs": [
    {
     "data": {
      "text/html": [
       "<img src=\"./materials/img/week02/12.png\"/>"
      ],
      "text/plain": [
       "<IPython.core.display.Image object>"
      ]
     },
     "execution_count": 16,
     "metadata": {},
     "output_type": "execute_result"
    }
   ],
   "source": [
    "Image(url= \"./materials/img/week02/12.png\")"
   ]
  },
  {
   "cell_type": "code",
   "execution_count": null,
   "id": "0539e574-457b-4ca8-b641-afad2a846004",
   "metadata": {},
   "outputs": [
    {
     "data": {
      "text/html": [
       "<img src=\"./materials/img/week02/13.png\"/>"
      ],
      "text/plain": [
       "<IPython.core.display.Image object>"
      ]
     },
     "execution_count": 17,
     "metadata": {},
     "output_type": "execute_result"
    }
   ],
   "source": [
    "Image(url= \"./materials/img/week02/13.png\")"
   ]
  },
  {
   "cell_type": "code",
   "execution_count": null,
   "id": "4a4f889e-6377-48dd-b43c-2e7e07943b98",
   "metadata": {},
   "outputs": [
    {
     "data": {
      "text/html": [
       "<img src=\"./materials/img/week02/14.png\"/>"
      ],
      "text/plain": [
       "<IPython.core.display.Image object>"
      ]
     },
     "execution_count": 18,
     "metadata": {},
     "output_type": "execute_result"
    }
   ],
   "source": [
    "Image(url= \"./materials/img/week02/14.png\")"
   ]
  },
  {
   "cell_type": "code",
   "execution_count": null,
   "id": "33400bb1-d16c-4d00-8839-988b4f28f224",
   "metadata": {},
   "outputs": [
    {
     "data": {
      "text/html": [
       "<img src=\"./materials/img/week02/15.png\"/>"
      ],
      "text/plain": [
       "<IPython.core.display.Image object>"
      ]
     },
     "execution_count": 19,
     "metadata": {},
     "output_type": "execute_result"
    }
   ],
   "source": [
    "Image(url= \"./materials/img/week02/15.png\")"
   ]
  },
  {
   "cell_type": "code",
   "execution_count": null,
   "id": "90ce910b-b5a4-4c5d-ba87-e57be014740c",
   "metadata": {},
   "outputs": [
    {
     "data": {
      "text/html": [
       "<img src=\"./materials/img/week02/16.png\"/>"
      ],
      "text/plain": [
       "<IPython.core.display.Image object>"
      ]
     },
     "execution_count": 20,
     "metadata": {},
     "output_type": "execute_result"
    }
   ],
   "source": [
    "Image(url= \"./materials/img/week02/16.png\")"
   ]
  },
  {
   "cell_type": "code",
   "execution_count": null,
   "id": "72d86cfa-dfbc-4f9a-8d81-716392aa3e6f",
   "metadata": {},
   "outputs": [
    {
     "data": {
      "text/html": [
       "<img src=\"./materials/img/week02/17.png\"/>"
      ],
      "text/plain": [
       "<IPython.core.display.Image object>"
      ]
     },
     "execution_count": 21,
     "metadata": {},
     "output_type": "execute_result"
    }
   ],
   "source": [
    "Image(url= \"./materials/img/week02/17.png\")"
   ]
  },
  {
   "cell_type": "code",
   "execution_count": null,
   "id": "e20b1882-1bce-4ed8-987c-0fd43e642bff",
   "metadata": {},
   "outputs": [
    {
     "name": "stdout",
     "output_type": "stream",
     "text": [
      "abc\n",
      "abc\n"
     ]
    }
   ],
   "source": [
    "print(\"abc\")\n",
    "print(\"abc\")"
   ]
  },
  {
   "cell_type": "code",
   "execution_count": null,
   "id": "0aceb2a5-f6ee-48ab-95d5-5990bbfe10ec",
   "metadata": {},
   "outputs": [
    {
     "name": "stdout",
     "output_type": "stream",
     "text": [
      "abc\n"
     ]
    }
   ],
   "source": [
    "print('abc', end='\\n') # == print('abc')"
   ]
  },
  {
   "cell_type": "code",
   "execution_count": null,
   "id": "c375bb16-07a0-4ac3-9819-14c117e9b0dc",
   "metadata": {},
   "outputs": [
    {
     "name": "stdout",
     "output_type": "stream",
     "text": [
      "abcabc\n"
     ]
    }
   ],
   "source": [
    "print('abc', end='')\n",
    "print('abc')"
   ]
  },
  {
   "cell_type": "code",
   "execution_count": null,
   "id": "0b4b415e-686a-43fa-ba19-d5a9bd602e90",
   "metadata": {},
   "outputs": [],
   "source": [
    "a=1\n",
    "b=2\n",
    "c=3"
   ]
  },
  {
   "cell_type": "code",
   "execution_count": null,
   "id": "3a8b5005-4f40-42cb-b10c-a2d6101b6fb9",
   "metadata": {},
   "outputs": [],
   "source": [
    "## a+b = 3  <--이렇게 출력하고 싶다"
   ]
  },
  {
   "cell_type": "code",
   "execution_count": null,
   "id": "4bd68093-0172-4798-ac7b-176e00c700cc",
   "metadata": {},
   "outputs": [
    {
     "name": "stdout",
     "output_type": "stream",
     "text": [
      "a+b = 3\n"
     ]
    }
   ],
   "source": [
    "print(\"a+b =\", a+b)"
   ]
  },
  {
   "cell_type": "code",
   "execution_count": null,
   "id": "8444cd95-9f5a-4c4f-9fa4-e74512267094",
   "metadata": {},
   "outputs": [
    {
     "name": "stdout",
     "output_type": "stream",
     "text": [
      "1 + 2 = 3\n"
     ]
    }
   ],
   "source": [
    "print(a, \"+\", b ,\"=\", c)"
   ]
  },
  {
   "cell_type": "code",
   "execution_count": null,
   "id": "11527dae-e3f0-42d3-87ca-e0d8fddb3877",
   "metadata": {},
   "outputs": [
    {
     "data": {
      "text/html": [
       "<img src=\"./materials/img/week02/18.png\"/>"
      ],
      "text/plain": [
       "<IPython.core.display.Image object>"
      ]
     },
     "execution_count": 22,
     "metadata": {},
     "output_type": "execute_result"
    }
   ],
   "source": [
    "Image(url= \"./materials/img/week02/18.png\")"
   ]
  }
 ],
 "metadata": {
  "kernelspec": {
   "display_name": "Python 3",
   "language": "python",
   "name": "python3"
  },
  "language_info": {
   "codemirror_mode": {
    "name": "ipython",
    "version": 3
   },
   "file_extension": ".py",
   "mimetype": "text/x-python",
   "name": "python",
   "nbconvert_exporter": "python",
   "pygments_lexer": "ipython3",
   "version": "3.6.14"
  }
 },
 "nbformat": 4,
 "nbformat_minor": 5
}
