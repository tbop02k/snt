{
 "cells": [
  {
   "cell_type": "code",
   "execution_count": 2,
   "id": "5a0c313a-14ff-411c-bf50-56383cac9992",
   "metadata": {},
   "outputs": [],
   "source": [
    "from IPython.display import Image"
   ]
  },
  {
   "cell_type": "code",
   "execution_count": 3,
   "id": "b779a05e-dcd6-4ca2-a7a3-1a8fe353e52a",
   "metadata": {},
   "outputs": [
    {
     "data": {
      "text/html": [
       "<img src=\"./materials/img/week09/00.png\"/>"
      ],
      "text/plain": [
       "<IPython.core.display.Image object>"
      ]
     },
     "execution_count": 3,
     "metadata": {},
     "output_type": "execute_result"
    }
   ],
   "source": [
    "Image(url= \"./materials/img/week09/00.png\")"
   ]
  },
  {
   "cell_type": "code",
   "execution_count": 4,
   "id": "f35f9f32-50d9-4302-a284-83bfbe937668",
   "metadata": {},
   "outputs": [
    {
     "data": {
      "text/html": [
       "<img src=\"./materials/img/week09/01.png\"/>"
      ],
      "text/plain": [
       "<IPython.core.display.Image object>"
      ]
     },
     "execution_count": 4,
     "metadata": {},
     "output_type": "execute_result"
    }
   ],
   "source": [
    "Image(url= \"./materials/img/week09/01.png\")"
   ]
  },
  {
   "cell_type": "code",
   "execution_count": 5,
   "id": "b89bbfc1-76c3-4958-8e26-6f98edf5fd17",
   "metadata": {},
   "outputs": [
    {
     "data": {
      "text/html": [
       "<img src=\"./materials/img/week09/02.png\"/>"
      ],
      "text/plain": [
       "<IPython.core.display.Image object>"
      ]
     },
     "execution_count": 5,
     "metadata": {},
     "output_type": "execute_result"
    }
   ],
   "source": [
    "Image(url= \"./materials/img/week09/02.png\")"
   ]
  },
  {
   "cell_type": "code",
   "execution_count": 6,
   "id": "d446936d-2a91-4f40-9c1f-5a529ca2d04f",
   "metadata": {},
   "outputs": [
    {
     "data": {
      "text/html": [
       "<img src=\"./materials/img/week09/03.png\"/>"
      ],
      "text/plain": [
       "<IPython.core.display.Image object>"
      ]
     },
     "execution_count": 6,
     "metadata": {},
     "output_type": "execute_result"
    }
   ],
   "source": [
    "Image(url= \"./materials/img/week09/03.png\")"
   ]
  },
  {
   "cell_type": "code",
   "execution_count": 7,
   "id": "0dbe4132-82c2-40ac-8bb1-5787a4d25d89",
   "metadata": {},
   "outputs": [
    {
     "data": {
      "text/html": [
       "<img src=\"./materials/img/week09/04.png\"/>"
      ],
      "text/plain": [
       "<IPython.core.display.Image object>"
      ]
     },
     "execution_count": 7,
     "metadata": {},
     "output_type": "execute_result"
    }
   ],
   "source": [
    "Image(url= \"./materials/img/week09/04.png\")"
   ]
  },
  {
   "cell_type": "code",
   "execution_count": 8,
   "id": "2c57133c-c00a-4686-bd60-a8376f3611b6",
   "metadata": {},
   "outputs": [
    {
     "data": {
      "text/html": [
       "<img src=\"./materials/img/week09/05.png\"/>"
      ],
      "text/plain": [
       "<IPython.core.display.Image object>"
      ]
     },
     "execution_count": 8,
     "metadata": {},
     "output_type": "execute_result"
    }
   ],
   "source": [
    "Image(url= \"./materials/img/week09/05.png\")"
   ]
  },
  {
   "cell_type": "code",
   "execution_count": 9,
   "id": "bc39f78e-6a10-4163-b676-9ca2719f10db",
   "metadata": {},
   "outputs": [
    {
     "data": {
      "text/html": [
       "<img src=\"./materials/img/week09/06.png\"/>"
      ],
      "text/plain": [
       "<IPython.core.display.Image object>"
      ]
     },
     "execution_count": 9,
     "metadata": {},
     "output_type": "execute_result"
    }
   ],
   "source": [
    "Image(url= \"./materials/img/week09/06.png\")"
   ]
  },
  {
   "cell_type": "code",
   "execution_count": 10,
   "id": "339c015e-ad96-4dcf-9e12-9400256d21e3",
   "metadata": {},
   "outputs": [
    {
     "data": {
      "text/html": [
       "<img src=\"./materials/img/week09/07.png\"/>"
      ],
      "text/plain": [
       "<IPython.core.display.Image object>"
      ]
     },
     "execution_count": 10,
     "metadata": {},
     "output_type": "execute_result"
    }
   ],
   "source": [
    "Image(url= \"./materials/img/week09/07.png\")"
   ]
  },
  {
   "cell_type": "code",
   "execution_count": 11,
   "id": "65fc87e0-b6aa-413e-830d-254e19a7e0d9",
   "metadata": {},
   "outputs": [
    {
     "data": {
      "text/html": [
       "<img src=\"./materials/img/week09/08.png\"/>"
      ],
      "text/plain": [
       "<IPython.core.display.Image object>"
      ]
     },
     "execution_count": 11,
     "metadata": {},
     "output_type": "execute_result"
    }
   ],
   "source": [
    "Image(url= \"./materials/img/week09/08.png\")"
   ]
  },
  {
   "cell_type": "code",
   "execution_count": 12,
   "id": "87390a6e-ce9e-40ec-8ba8-3fbdc304cf25",
   "metadata": {},
   "outputs": [
    {
     "data": {
      "text/html": [
       "<img src=\"./materials/img/week09/09.png\"/>"
      ],
      "text/plain": [
       "<IPython.core.display.Image object>"
      ]
     },
     "execution_count": 12,
     "metadata": {},
     "output_type": "execute_result"
    }
   ],
   "source": [
    "Image(url= \"./materials/img/week09/09.png\")"
   ]
  },
  {
   "cell_type": "code",
   "execution_count": 13,
   "id": "0412b1b6-926e-4d78-be15-995191f84934",
   "metadata": {},
   "outputs": [
    {
     "data": {
      "text/html": [
       "<img src=\"./materials/img/week09/10.png\"/>"
      ],
      "text/plain": [
       "<IPython.core.display.Image object>"
      ]
     },
     "execution_count": 13,
     "metadata": {},
     "output_type": "execute_result"
    }
   ],
   "source": [
    "Image(url= \"./materials/img/week09/10.png\")"
   ]
  },
  {
   "cell_type": "code",
   "execution_count": 14,
   "id": "0bf0c53c-2504-486f-8892-72c96bf83bfe",
   "metadata": {},
   "outputs": [
    {
     "data": {
      "text/html": [
       "<img src=\"./materials/img/week09/11.png\"/>"
      ],
      "text/plain": [
       "<IPython.core.display.Image object>"
      ]
     },
     "execution_count": 14,
     "metadata": {},
     "output_type": "execute_result"
    }
   ],
   "source": [
    "Image(url= \"./materials/img/week09/11.png\")"
   ]
  },
  {
   "cell_type": "code",
   "execution_count": 15,
   "id": "232e0a30-8f4d-4090-815b-fe03337310fb",
   "metadata": {},
   "outputs": [
    {
     "data": {
      "text/html": [
       "<img src=\"./materials/img/week09/12.png\"/>"
      ],
      "text/plain": [
       "<IPython.core.display.Image object>"
      ]
     },
     "execution_count": 15,
     "metadata": {},
     "output_type": "execute_result"
    }
   ],
   "source": [
    "Image(url= \"./materials/img/week09/12.png\")"
   ]
  },
  {
   "cell_type": "code",
   "execution_count": 16,
   "id": "21c6b021-e4d4-4379-bb73-2c5b34e27a1c",
   "metadata": {},
   "outputs": [
    {
     "data": {
      "text/html": [
       "<img src=\"./materials/img/week09/13.png\"/>"
      ],
      "text/plain": [
       "<IPython.core.display.Image object>"
      ]
     },
     "execution_count": 16,
     "metadata": {},
     "output_type": "execute_result"
    }
   ],
   "source": [
    "Image(url= \"./materials/img/week09/13.png\")"
   ]
  },
  {
   "cell_type": "code",
   "execution_count": 17,
   "id": "8a8295bc-c2bb-4f0c-bdd8-a2b7f9ae4fee",
   "metadata": {},
   "outputs": [
    {
     "data": {
      "text/html": [
       "<img src=\"./materials/img/week09/14.png\"/>"
      ],
      "text/plain": [
       "<IPython.core.display.Image object>"
      ]
     },
     "execution_count": 17,
     "metadata": {},
     "output_type": "execute_result"
    }
   ],
   "source": [
    "Image(url= \"./materials/img/week09/14.png\")"
   ]
  },
  {
   "cell_type": "code",
   "execution_count": 18,
   "id": "5e9e0a5b-c5e9-4e68-983a-e6ffe7379b8f",
   "metadata": {},
   "outputs": [
    {
     "data": {
      "text/html": [
       "<img src=\"./materials/img/week09/15.png\"/>"
      ],
      "text/plain": [
       "<IPython.core.display.Image object>"
      ]
     },
     "execution_count": 18,
     "metadata": {},
     "output_type": "execute_result"
    }
   ],
   "source": [
    "Image(url= \"./materials/img/week09/15.png\")"
   ]
  },
  {
   "cell_type": "code",
   "execution_count": 19,
   "id": "022e127e-295e-493e-88ae-5142d4743598",
   "metadata": {},
   "outputs": [
    {
     "data": {
      "text/html": [
       "<img src=\"./materials/img/week09/16.png\"/>"
      ],
      "text/plain": [
       "<IPython.core.display.Image object>"
      ]
     },
     "execution_count": 19,
     "metadata": {},
     "output_type": "execute_result"
    }
   ],
   "source": [
    "Image(url= \"./materials/img/week09/16.png\")"
   ]
  }
 ],
 "metadata": {
  "kernelspec": {
   "display_name": "Python 3",
   "language": "python",
   "name": "python3"
  },
  "language_info": {
   "codemirror_mode": {
    "name": "ipython",
    "version": 3
   },
   "file_extension": ".py",
   "mimetype": "text/x-python",
   "name": "python",
   "nbconvert_exporter": "python",
   "pygments_lexer": "ipython3",
   "version": "3.6.14"
  }
 },
 "nbformat": 4,
 "nbformat_minor": 5
}
